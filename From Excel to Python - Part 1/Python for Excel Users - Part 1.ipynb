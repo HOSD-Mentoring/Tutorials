{
 "cells": [
  {
   "cell_type": "code",
   "execution_count": 1,
   "id": "67374e3c",
   "metadata": {},
   "outputs": [],
   "source": [
    "# filter warnings to not confuse readers\n",
    "import warnings\n",
    "warnings.filterwarnings(\"ignore\")"
   ]
  },
  {
   "cell_type": "markdown",
   "id": "4b5d6c0a",
   "metadata": {},
   "source": [
    "# Python for Excel Users - Part 1\n",
    "\n",
    "#### Is it for me?\n",
    "This tutorial notebook is for everyone who wants to get started working in python instead of Excel, e.g. for automating tasks or improving speed and scalability. Or for just the curious ones.\n",
    "\n",
    "You're at the right spot when you use Excel to combine various sheets or tables (using formulas like Index, Match, VLookup), use simple mathematical operations like sum and mean, or even use conditional aggregation functions (e.g. sum of transactions per category) or pivot tables.\n",
    "\n",
    "#### Goal:\n",
    "We will explore and combine different sales data tables like we would in Excel. The tables are:\n",
    "- Orders\n",
    "- Order_lines\n",
    "- Products\n",
    "More details about the data below.\n",
    "\n",
    "#### Requirements:\n",
    "While some basic experience with Python helps, you don't have to be a a programmer or data scientist to follow this tutorial. Ideally, you should have heard of pandas and jupyter notebook (which is where you're reading this tutorial right now) and spent some time with python yourself. \n",
    "\n",
    "But don't get discouraged. Just try to follow along and read up on things we did not cover. You can always come back here. And if you need some personal guidance, we at HOSD Mentoring offer free one-to-one data mentoring at www.hosd-mentoring.com\n"
   ]
  },
  {
   "cell_type": "markdown",
   "id": "22760ac9",
   "metadata": {},
   "source": [
    "# 1. The Situation\n",
    "\n",
    "Imagine you just started in the sales department of a huge online retailer. It's your first day. You set up your computer, got a great double espresso from your company's barista aka. the old coffee machine in the break room, and you're read to get started! \n",
    "\n",
    "Unfortunately, it's summer time and everyone in your team is on vacation. This leaves you with a lot of questions and time to **explore the company data yourself**. Great!\n",
    "\n",
    "#### A few of the questions in your head are:\n",
    "- 🏬 How big is the company actually, measured by number of transactions? \n",
    "- 💵 Company size in terms of revenue per year? \n",
    "- 👗 How many products do we offer per Category? \n",
    "- 📦 How successful are our deliveries?\n",
    "\n",
    "You know that you can answer these questions simply by using and combining the three tables Orders, Order_lines, and Products in Excel using **standard formulas and a maybe a pivot table**. \n",
    "\n",
    "But since no one's arround and your starting of a new job marks a new era in your career, you want to do it differently this time. Why not try out this **cool thing called python** that everyone on LinkedIn talks about? Yeah, let's do that!"
   ]
  },
  {
   "cell_type": "markdown",
   "id": "fc765c35",
   "metadata": {},
   "source": [
    "# 2. Getting started - the Data\n",
    "\n",
    "The data used in this tutorial is an adapted and simplified version of the [Brazilian E-Commerce Public Dataset by Olist](https://www.kaggle.com/olistbr/brazilian-ecommerce). As mentioned above, we will work with three tables.\n",
    "\n",
    "In Excel, you would do something like opening a new Excel document, go to Data > Get Data > From Text, then search for the .csv file and click through the Text Import Wizard (choice of delimiter, file encoding, data format, etc.) or you would just double-click on the .csv file and hope Excel will figure everything out correctly by itself (ouch!).\n",
    "\n",
    "![Excel csv example](img/img1.png)\n",
    "\n",
    "But now we're in python land and things are a bit different (but not harder!). \n",
    "\n",
    "To work with an .csv file, we will read it as an dataframe (fancy name for table) using the package [pandas](https://pandas.pydata.org/docs/). We save the tables in variables with an appropriate name. It's conventional that dataframe names end with df."
   ]
  },
  {
   "cell_type": "code",
   "execution_count": 2,
   "id": "d2a4e543",
   "metadata": {},
   "outputs": [],
   "source": [
    "# setup notebook and load tables\n",
    "import pandas as pd\n",
    "\n",
    "orders_df = pd.read_csv(\"data/Orders.csv\")\n",
    "order_lines_df = pd.read_csv(\"data/Order_lines.csv\")\n",
    "products_df = pd.read_csv(\"data/Products.csv\")"
   ]
  },
  {
   "cell_type": "markdown",
   "id": "4a9e3eeb",
   "metadata": {},
   "source": [
    "Great! We've just loaded the three tables into our python program. Right?\n",
    "Unlike in Excel, the imported data is not displayed immediately. Python is quite silent if you don't tell explicitly what you want to see.\n",
    "\n",
    "After you've imported a csv file using pandas' read_csv() method and saved it as something_df, we can display the first 5 rows using **something_df.head(5)**. \n",
    "\n",
    "That way we can briefly see how the table looks like and which columns we are dealing with. Let's do that for our three tables.\n",
    "\n",
    "**Orders** will state all transactions, when they happened and whether the order has been fulfilled successfully. Each order has an order_id (unique per order), customer_id (unique per customer), an order_status, and purchase date."
   ]
  },
  {
   "cell_type": "code",
   "execution_count": 3,
   "id": "05ad98aa",
   "metadata": {},
   "outputs": [
    {
     "data": {
      "text/html": [
       "<div>\n",
       "<style scoped>\n",
       "    .dataframe tbody tr th:only-of-type {\n",
       "        vertical-align: middle;\n",
       "    }\n",
       "\n",
       "    .dataframe tbody tr th {\n",
       "        vertical-align: top;\n",
       "    }\n",
       "\n",
       "    .dataframe thead th {\n",
       "        text-align: right;\n",
       "    }\n",
       "</style>\n",
       "<table border=\"1\" class=\"dataframe\">\n",
       "  <thead>\n",
       "    <tr style=\"text-align: right;\">\n",
       "      <th></th>\n",
       "      <th>order_id</th>\n",
       "      <th>customer_id</th>\n",
       "      <th>order_status</th>\n",
       "      <th>order_purchase_timestamp</th>\n",
       "    </tr>\n",
       "  </thead>\n",
       "  <tbody>\n",
       "    <tr>\n",
       "      <th>0</th>\n",
       "      <td>e481f51cbdc54678b7cc49136f2d6af7</td>\n",
       "      <td>9ef432eb6251297304e76186b10a928d</td>\n",
       "      <td>delivered</td>\n",
       "      <td>02.10.17 10:56</td>\n",
       "    </tr>\n",
       "    <tr>\n",
       "      <th>1</th>\n",
       "      <td>53cdb2fc8bc7dce0b6741e2150273451</td>\n",
       "      <td>b0830fb4747a6c6d20dea0b8c802d7ef</td>\n",
       "      <td>delivered</td>\n",
       "      <td>24.07.18 20:41</td>\n",
       "    </tr>\n",
       "    <tr>\n",
       "      <th>2</th>\n",
       "      <td>47770eb9100c2d0c44946d9cf07ec65d</td>\n",
       "      <td>41ce2a54c0b03bf3443c3d931a367089</td>\n",
       "      <td>delivered</td>\n",
       "      <td>08.08.18 08:38</td>\n",
       "    </tr>\n",
       "    <tr>\n",
       "      <th>3</th>\n",
       "      <td>949d5b44dbf5de918fe9c16f97b45f8a</td>\n",
       "      <td>f88197465ea7920adcdbec7375364d82</td>\n",
       "      <td>delivered</td>\n",
       "      <td>18.11.17 19:28</td>\n",
       "    </tr>\n",
       "    <tr>\n",
       "      <th>4</th>\n",
       "      <td>ad21c59c0840e6cb83a9ceb5573f8159</td>\n",
       "      <td>8ab97904e6daea8866dbdbc4fb7aad2c</td>\n",
       "      <td>delivered</td>\n",
       "      <td>13.02.18 21:18</td>\n",
       "    </tr>\n",
       "  </tbody>\n",
       "</table>\n",
       "</div>"
      ],
      "text/plain": [
       "                           order_id                       customer_id  \\\n",
       "0  e481f51cbdc54678b7cc49136f2d6af7  9ef432eb6251297304e76186b10a928d   \n",
       "1  53cdb2fc8bc7dce0b6741e2150273451  b0830fb4747a6c6d20dea0b8c802d7ef   \n",
       "2  47770eb9100c2d0c44946d9cf07ec65d  41ce2a54c0b03bf3443c3d931a367089   \n",
       "3  949d5b44dbf5de918fe9c16f97b45f8a  f88197465ea7920adcdbec7375364d82   \n",
       "4  ad21c59c0840e6cb83a9ceb5573f8159  8ab97904e6daea8866dbdbc4fb7aad2c   \n",
       "\n",
       "  order_status order_purchase_timestamp  \n",
       "0    delivered           02.10.17 10:56  \n",
       "1    delivered           24.07.18 20:41  \n",
       "2    delivered           08.08.18 08:38  \n",
       "3    delivered           18.11.17 19:28  \n",
       "4    delivered           13.02.18 21:18  "
      ]
     },
     "execution_count": 3,
     "metadata": {},
     "output_type": "execute_result"
    }
   ],
   "source": [
    "# Preview of the Orders table\n",
    "orders_df.head(5)"
   ]
  },
  {
   "cell_type": "markdown",
   "id": "eb1de724",
   "metadata": {},
   "source": [
    "However, the orders_df won't state the content of the individual orders. For that we need to take a look at the **Order_lines** table and connect the two tables using an order id. In order_lines_df, each row refers to one transaction item, including quantity, price and, freight value. "
   ]
  },
  {
   "cell_type": "code",
   "execution_count": 4,
   "id": "d4d3369d",
   "metadata": {},
   "outputs": [
    {
     "data": {
      "text/html": [
       "<div>\n",
       "<style scoped>\n",
       "    .dataframe tbody tr th:only-of-type {\n",
       "        vertical-align: middle;\n",
       "    }\n",
       "\n",
       "    .dataframe tbody tr th {\n",
       "        vertical-align: top;\n",
       "    }\n",
       "\n",
       "    .dataframe thead th {\n",
       "        text-align: right;\n",
       "    }\n",
       "</style>\n",
       "<table border=\"1\" class=\"dataframe\">\n",
       "  <thead>\n",
       "    <tr style=\"text-align: right;\">\n",
       "      <th></th>\n",
       "      <th>order_id</th>\n",
       "      <th>order_item_id</th>\n",
       "      <th>product_id</th>\n",
       "      <th>price</th>\n",
       "      <th>freight_value</th>\n",
       "    </tr>\n",
       "  </thead>\n",
       "  <tbody>\n",
       "    <tr>\n",
       "      <th>0</th>\n",
       "      <td>00010242fe8c5a6d1ba2dd792cb16214</td>\n",
       "      <td>1</td>\n",
       "      <td>4244733e06e7ecb4970a6e2683c13e61</td>\n",
       "      <td>58.90</td>\n",
       "      <td>13.29</td>\n",
       "    </tr>\n",
       "    <tr>\n",
       "      <th>1</th>\n",
       "      <td>00018f77f2f0320c557190d7a144bdd3</td>\n",
       "      <td>1</td>\n",
       "      <td>e5f2d52b802189ee658865ca93d83a8f</td>\n",
       "      <td>239.90</td>\n",
       "      <td>19.93</td>\n",
       "    </tr>\n",
       "    <tr>\n",
       "      <th>2</th>\n",
       "      <td>000229ec398224ef6ca0657da4fc703e</td>\n",
       "      <td>1</td>\n",
       "      <td>c777355d18b72b67abbeef9df44fd0fd</td>\n",
       "      <td>199.00</td>\n",
       "      <td>17.87</td>\n",
       "    </tr>\n",
       "    <tr>\n",
       "      <th>3</th>\n",
       "      <td>00024acbcdf0a6daa1e931b038114c75</td>\n",
       "      <td>1</td>\n",
       "      <td>7634da152a4610f1595efa32f14722fc</td>\n",
       "      <td>12.99</td>\n",
       "      <td>12.79</td>\n",
       "    </tr>\n",
       "    <tr>\n",
       "      <th>4</th>\n",
       "      <td>00042b26cf59d7ce69dfabb4e55b4fd9</td>\n",
       "      <td>1</td>\n",
       "      <td>ac6c3623068f30de03045865e4e10089</td>\n",
       "      <td>199.90</td>\n",
       "      <td>18.14</td>\n",
       "    </tr>\n",
       "  </tbody>\n",
       "</table>\n",
       "</div>"
      ],
      "text/plain": [
       "                           order_id  order_item_id  \\\n",
       "0  00010242fe8c5a6d1ba2dd792cb16214              1   \n",
       "1  00018f77f2f0320c557190d7a144bdd3              1   \n",
       "2  000229ec398224ef6ca0657da4fc703e              1   \n",
       "3  00024acbcdf0a6daa1e931b038114c75              1   \n",
       "4  00042b26cf59d7ce69dfabb4e55b4fd9              1   \n",
       "\n",
       "                         product_id   price  freight_value  \n",
       "0  4244733e06e7ecb4970a6e2683c13e61   58.90          13.29  \n",
       "1  e5f2d52b802189ee658865ca93d83a8f  239.90          19.93  \n",
       "2  c777355d18b72b67abbeef9df44fd0fd  199.00          17.87  \n",
       "3  7634da152a4610f1595efa32f14722fc   12.99          12.79  \n",
       "4  ac6c3623068f30de03045865e4e10089  199.90          18.14  "
      ]
     },
     "execution_count": 4,
     "metadata": {},
     "output_type": "execute_result"
    }
   ],
   "source": [
    "# Preview of Order_lines table\n",
    "order_lines_df.head(5)"
   ]
  },
  {
   "cell_type": "markdown",
   "id": "35e7d787",
   "metadata": {},
   "source": [
    "The product category is not part of this table yet, so we need to combine the **Products** table (products_df) with the order_lines_df late in case we want to analyze category-level data."
   ]
  },
  {
   "cell_type": "code",
   "execution_count": 5,
   "id": "c665a769",
   "metadata": {},
   "outputs": [
    {
     "data": {
      "text/html": [
       "<div>\n",
       "<style scoped>\n",
       "    .dataframe tbody tr th:only-of-type {\n",
       "        vertical-align: middle;\n",
       "    }\n",
       "\n",
       "    .dataframe tbody tr th {\n",
       "        vertical-align: top;\n",
       "    }\n",
       "\n",
       "    .dataframe thead th {\n",
       "        text-align: right;\n",
       "    }\n",
       "</style>\n",
       "<table border=\"1\" class=\"dataframe\">\n",
       "  <thead>\n",
       "    <tr style=\"text-align: right;\">\n",
       "      <th></th>\n",
       "      <th>product_id</th>\n",
       "      <th>product_category_name</th>\n",
       "    </tr>\n",
       "  </thead>\n",
       "  <tbody>\n",
       "    <tr>\n",
       "      <th>0</th>\n",
       "      <td>1e9e8ef04dbcff4541ed26657ea517e5</td>\n",
       "      <td>perfumaria</td>\n",
       "    </tr>\n",
       "    <tr>\n",
       "      <th>1</th>\n",
       "      <td>3aa071139cb16b67ca9e5dea641aaa2f</td>\n",
       "      <td>artes</td>\n",
       "    </tr>\n",
       "    <tr>\n",
       "      <th>2</th>\n",
       "      <td>96bd76ec8810374ed1b65e291975717f</td>\n",
       "      <td>esporte_lazer</td>\n",
       "    </tr>\n",
       "    <tr>\n",
       "      <th>3</th>\n",
       "      <td>cef67bcfe19066a932b7673e239eb23d</td>\n",
       "      <td>bebes</td>\n",
       "    </tr>\n",
       "    <tr>\n",
       "      <th>4</th>\n",
       "      <td>9dc1a7de274444849c219cff195d0b71</td>\n",
       "      <td>utilidades_domesticas</td>\n",
       "    </tr>\n",
       "  </tbody>\n",
       "</table>\n",
       "</div>"
      ],
      "text/plain": [
       "                         product_id  product_category_name\n",
       "0  1e9e8ef04dbcff4541ed26657ea517e5             perfumaria\n",
       "1  3aa071139cb16b67ca9e5dea641aaa2f                  artes\n",
       "2  96bd76ec8810374ed1b65e291975717f          esporte_lazer\n",
       "3  cef67bcfe19066a932b7673e239eb23d                  bebes\n",
       "4  9dc1a7de274444849c219cff195d0b71  utilidades_domesticas"
      ]
     },
     "execution_count": 5,
     "metadata": {},
     "output_type": "execute_result"
    }
   ],
   "source": [
    "# Preview of Products table\n",
    "products_df.head(5)"
   ]
  },
  {
   "cell_type": "markdown",
   "id": "4a505b59",
   "metadata": {},
   "source": [
    "# 3. Answering our Questions with Data"
   ]
  },
  {
   "cell_type": "markdown",
   "id": "488a0749",
   "metadata": {},
   "source": [
    "Now that we have everything loaded into our notebook, we can start answering our questions with data.\n",
    "\n",
    "## 3.1 🏬 How big is the company actually, measured by number of transactions? \n",
    "\n",
    "Since we are working in the sales department, when we talk about company size here we mean **number of transactions**. For that we can start by simply counting the number of row in order_df using python's len() method. This is similar to clicking on the column in Excel and reading the count at the bottom of the screen."
   ]
  },
  {
   "cell_type": "code",
   "execution_count": 6,
   "id": "820bc810",
   "metadata": {},
   "outputs": [
    {
     "data": {
      "text/plain": [
       "99441"
      ]
     },
     "execution_count": 6,
     "metadata": {},
     "output_type": "execute_result"
    }
   ],
   "source": [
    "len(orders_df)"
   ]
  },
  {
   "cell_type": "markdown",
   "id": "2260ffa2",
   "metadata": {},
   "source": [
    "Alternatively, we can use pandas pd.unique() method on the column order_id, which will return the unique values of order_id. In this case it shouldn't make a difference since the order ids are unique by nature. \n",
    "\n",
    "However, if we would use this approach on a column with duplicates (like customer_id) then our results with len() on the whole table would not be correct. So let's do it properly and use pd.unique() to get the unique order ids and then use len() on that.\n",
    "\n",
    "Note: You can access a column of a table using table_df[\"column_name\"]"
   ]
  },
  {
   "cell_type": "code",
   "execution_count": 7,
   "id": "4a33177a",
   "metadata": {},
   "outputs": [
    {
     "data": {
      "text/plain": [
       "99441"
      ]
     },
     "execution_count": 7,
     "metadata": {},
     "output_type": "execute_result"
    }
   ],
   "source": [
    "len(pd.unique(orders_df[\"order_id\"]))"
   ]
  },
  {
   "cell_type": "markdown",
   "id": "fed05a80",
   "metadata": {},
   "source": [
    "We are suprised by the large number of transactions first, but then we noticed two things:\n",
    "- Not all orders have been delivered. We should only take a look at successfully delivered orders using order_status.\n",
    "- These transactions happened in three years from 2016-2018. We should take a look at number of transactions per year.\n",
    "\n",
    "Let's start by filtering our all orders that have not been delivered successfully. To find out how many order_status options there are, we would click on the filter of that column in Excel.\n",
    "\n",
    "![filter in excel](img/img2.png)\n",
    "\n",
    "It's convenient that Excel shows us only unique values but as we just learned, we can achieve the same by using pd.unique() on the order_status column."
   ]
  },
  {
   "cell_type": "code",
   "execution_count": 8,
   "id": "e4e14de3",
   "metadata": {},
   "outputs": [
    {
     "data": {
      "text/plain": [
       "array(['delivered', 'invoiced', 'shipped', 'processing', 'unavailable',\n",
       "       'canceled', 'created', 'approved'], dtype=object)"
      ]
     },
     "execution_count": 8,
     "metadata": {},
     "output_type": "execute_result"
    }
   ],
   "source": [
    "pd.unique(orders_df[\"order_status\"])"
   ]
  },
  {
   "cell_type": "markdown",
   "id": "c3b0f76e",
   "metadata": {},
   "source": [
    "In Excel we would simply de-select all options except of 'delivered' to filter our table. Excel will check each row and only display the ones where order_status equals 'delivered'. \n",
    "\n",
    "We can tell python to do the same. If our computer was a person, we would tell her: Please take the order_df table and show me only the rows where the column \"order_status\" of the order_df table is equal to \"delivered\". Luckily, our computer is not a person and needs way less text to do the same. \n",
    "\n",
    "Translated to python it's:"
   ]
  },
  {
   "cell_type": "code",
   "execution_count": 9,
   "id": "27e41731",
   "metadata": {},
   "outputs": [
    {
     "data": {
      "text/html": [
       "<div>\n",
       "<style scoped>\n",
       "    .dataframe tbody tr th:only-of-type {\n",
       "        vertical-align: middle;\n",
       "    }\n",
       "\n",
       "    .dataframe tbody tr th {\n",
       "        vertical-align: top;\n",
       "    }\n",
       "\n",
       "    .dataframe thead th {\n",
       "        text-align: right;\n",
       "    }\n",
       "</style>\n",
       "<table border=\"1\" class=\"dataframe\">\n",
       "  <thead>\n",
       "    <tr style=\"text-align: right;\">\n",
       "      <th></th>\n",
       "      <th>order_id</th>\n",
       "      <th>customer_id</th>\n",
       "      <th>order_status</th>\n",
       "      <th>order_purchase_timestamp</th>\n",
       "    </tr>\n",
       "  </thead>\n",
       "  <tbody>\n",
       "    <tr>\n",
       "      <th>0</th>\n",
       "      <td>e481f51cbdc54678b7cc49136f2d6af7</td>\n",
       "      <td>9ef432eb6251297304e76186b10a928d</td>\n",
       "      <td>delivered</td>\n",
       "      <td>02.10.17 10:56</td>\n",
       "    </tr>\n",
       "    <tr>\n",
       "      <th>1</th>\n",
       "      <td>53cdb2fc8bc7dce0b6741e2150273451</td>\n",
       "      <td>b0830fb4747a6c6d20dea0b8c802d7ef</td>\n",
       "      <td>delivered</td>\n",
       "      <td>24.07.18 20:41</td>\n",
       "    </tr>\n",
       "    <tr>\n",
       "      <th>2</th>\n",
       "      <td>47770eb9100c2d0c44946d9cf07ec65d</td>\n",
       "      <td>41ce2a54c0b03bf3443c3d931a367089</td>\n",
       "      <td>delivered</td>\n",
       "      <td>08.08.18 08:38</td>\n",
       "    </tr>\n",
       "    <tr>\n",
       "      <th>3</th>\n",
       "      <td>949d5b44dbf5de918fe9c16f97b45f8a</td>\n",
       "      <td>f88197465ea7920adcdbec7375364d82</td>\n",
       "      <td>delivered</td>\n",
       "      <td>18.11.17 19:28</td>\n",
       "    </tr>\n",
       "    <tr>\n",
       "      <th>4</th>\n",
       "      <td>ad21c59c0840e6cb83a9ceb5573f8159</td>\n",
       "      <td>8ab97904e6daea8866dbdbc4fb7aad2c</td>\n",
       "      <td>delivered</td>\n",
       "      <td>13.02.18 21:18</td>\n",
       "    </tr>\n",
       "    <tr>\n",
       "      <th>...</th>\n",
       "      <td>...</td>\n",
       "      <td>...</td>\n",
       "      <td>...</td>\n",
       "      <td>...</td>\n",
       "    </tr>\n",
       "    <tr>\n",
       "      <th>99436</th>\n",
       "      <td>9c5dedf39a927c1b2549525ed64a053c</td>\n",
       "      <td>39bd1228ee8140590ac3aca26f2dfe00</td>\n",
       "      <td>delivered</td>\n",
       "      <td>09.03.17 09:54</td>\n",
       "    </tr>\n",
       "    <tr>\n",
       "      <th>99437</th>\n",
       "      <td>63943bddc261676b46f01ca7ac2f7bd8</td>\n",
       "      <td>1fca14ff2861355f6e5f14306ff977a7</td>\n",
       "      <td>delivered</td>\n",
       "      <td>06.02.18 12:58</td>\n",
       "    </tr>\n",
       "    <tr>\n",
       "      <th>99438</th>\n",
       "      <td>83c1379a015df1e13d02aae0204711ab</td>\n",
       "      <td>1aa71eb042121263aafbe80c1b562c9c</td>\n",
       "      <td>delivered</td>\n",
       "      <td>27.08.17 14:46</td>\n",
       "    </tr>\n",
       "    <tr>\n",
       "      <th>99439</th>\n",
       "      <td>11c177c8e97725db2631073c19f07b62</td>\n",
       "      <td>b331b74b18dc79bcdf6532d51e1637c1</td>\n",
       "      <td>delivered</td>\n",
       "      <td>08.01.18 21:28</td>\n",
       "    </tr>\n",
       "    <tr>\n",
       "      <th>99440</th>\n",
       "      <td>66dea50a8b16d9b4dee7af250b4be1a5</td>\n",
       "      <td>edb027a75a1449115f6b43211ae02a24</td>\n",
       "      <td>delivered</td>\n",
       "      <td>08.03.18 20:57</td>\n",
       "    </tr>\n",
       "  </tbody>\n",
       "</table>\n",
       "<p>96478 rows × 4 columns</p>\n",
       "</div>"
      ],
      "text/plain": [
       "                               order_id                       customer_id  \\\n",
       "0      e481f51cbdc54678b7cc49136f2d6af7  9ef432eb6251297304e76186b10a928d   \n",
       "1      53cdb2fc8bc7dce0b6741e2150273451  b0830fb4747a6c6d20dea0b8c802d7ef   \n",
       "2      47770eb9100c2d0c44946d9cf07ec65d  41ce2a54c0b03bf3443c3d931a367089   \n",
       "3      949d5b44dbf5de918fe9c16f97b45f8a  f88197465ea7920adcdbec7375364d82   \n",
       "4      ad21c59c0840e6cb83a9ceb5573f8159  8ab97904e6daea8866dbdbc4fb7aad2c   \n",
       "...                                 ...                               ...   \n",
       "99436  9c5dedf39a927c1b2549525ed64a053c  39bd1228ee8140590ac3aca26f2dfe00   \n",
       "99437  63943bddc261676b46f01ca7ac2f7bd8  1fca14ff2861355f6e5f14306ff977a7   \n",
       "99438  83c1379a015df1e13d02aae0204711ab  1aa71eb042121263aafbe80c1b562c9c   \n",
       "99439  11c177c8e97725db2631073c19f07b62  b331b74b18dc79bcdf6532d51e1637c1   \n",
       "99440  66dea50a8b16d9b4dee7af250b4be1a5  edb027a75a1449115f6b43211ae02a24   \n",
       "\n",
       "      order_status order_purchase_timestamp  \n",
       "0        delivered           02.10.17 10:56  \n",
       "1        delivered           24.07.18 20:41  \n",
       "2        delivered           08.08.18 08:38  \n",
       "3        delivered           18.11.17 19:28  \n",
       "4        delivered           13.02.18 21:18  \n",
       "...            ...                      ...  \n",
       "99436    delivered           09.03.17 09:54  \n",
       "99437    delivered           06.02.18 12:58  \n",
       "99438    delivered           27.08.17 14:46  \n",
       "99439    delivered           08.01.18 21:28  \n",
       "99440    delivered           08.03.18 20:57  \n",
       "\n",
       "[96478 rows x 4 columns]"
      ]
     },
     "execution_count": 9,
     "metadata": {},
     "output_type": "execute_result"
    }
   ],
   "source": [
    "# order table where order table column order_status is equal to delivered.\n",
    "orders_df[orders_df[\"order_status\"]==\"delivered\"]"
   ]
  },
  {
   "cell_type": "markdown",
   "id": "6e220cc5",
   "metadata": {},
   "source": [
    "We should save the filtering result to another dataframe to further work with this table."
   ]
  },
  {
   "cell_type": "code",
   "execution_count": 10,
   "id": "8fca7d29",
   "metadata": {},
   "outputs": [],
   "source": [
    "delivered_orders_df = orders_df[orders_df[\"order_status\"]==\"delivered\"]"
   ]
  },
  {
   "cell_type": "markdown",
   "id": "67685080",
   "metadata": {},
   "source": [
    "Next, we want to break our transactions down per year. This might be the most difficult part of this tutorial since a few further data transforation steps are necessary that I won't explain fully here. Working with datetime can be challenging sometimes but there are great resources online.\n",
    "\n",
    "We will convert the order_purchase_timestamp column into a **datetime column**. Then we will **extract the year** from it, and save it to a **new column called \"year\"**. \n",
    "\n",
    "This is similar to using Excel's Year() formula.\n",
    "\n",
    "![excels year() formula](img/img3.png)"
   ]
  },
  {
   "cell_type": "code",
   "execution_count": 11,
   "id": "4edb12f7",
   "metadata": {},
   "outputs": [
    {
     "data": {
      "text/plain": [
       "dtype('O')"
      ]
     },
     "execution_count": 11,
     "metadata": {},
     "output_type": "execute_result"
    }
   ],
   "source": [
    "# the data type of this column is not yet datetime\n",
    "delivered_orders_df[\"order_purchase_timestamp\"].dtypes"
   ]
  },
  {
   "cell_type": "code",
   "execution_count": 12,
   "id": "9742d89d",
   "metadata": {},
   "outputs": [
    {
     "data": {
      "text/plain": [
       "dtype('<M8[ns]')"
      ]
     },
     "execution_count": 12,
     "metadata": {},
     "output_type": "execute_result"
    }
   ],
   "source": [
    "# convert to datetime\n",
    "delivered_orders_df[\"order_purchase_timestamp\"] = pd.to_datetime(delivered_orders_df[\"order_purchase_timestamp\"])\n",
    "delivered_orders_df[\"order_purchase_timestamp\"].dtypes"
   ]
  },
  {
   "cell_type": "code",
   "execution_count": 13,
   "id": "b6c4fac2",
   "metadata": {},
   "outputs": [],
   "source": [
    "# extract the year from datetime and save to new column\n",
    "delivered_orders_df[\"order_year\"] = delivered_orders_df[\"order_purchase_timestamp\"].dt.year"
   ]
  },
  {
   "cell_type": "code",
   "execution_count": 14,
   "id": "174a1899",
   "metadata": {},
   "outputs": [
    {
     "data": {
      "text/html": [
       "<div>\n",
       "<style scoped>\n",
       "    .dataframe tbody tr th:only-of-type {\n",
       "        vertical-align: middle;\n",
       "    }\n",
       "\n",
       "    .dataframe tbody tr th {\n",
       "        vertical-align: top;\n",
       "    }\n",
       "\n",
       "    .dataframe thead th {\n",
       "        text-align: right;\n",
       "    }\n",
       "</style>\n",
       "<table border=\"1\" class=\"dataframe\">\n",
       "  <thead>\n",
       "    <tr style=\"text-align: right;\">\n",
       "      <th></th>\n",
       "      <th>order_id</th>\n",
       "      <th>customer_id</th>\n",
       "      <th>order_status</th>\n",
       "      <th>order_purchase_timestamp</th>\n",
       "      <th>order_year</th>\n",
       "    </tr>\n",
       "  </thead>\n",
       "  <tbody>\n",
       "    <tr>\n",
       "      <th>0</th>\n",
       "      <td>e481f51cbdc54678b7cc49136f2d6af7</td>\n",
       "      <td>9ef432eb6251297304e76186b10a928d</td>\n",
       "      <td>delivered</td>\n",
       "      <td>2017-02-10 10:56:00</td>\n",
       "      <td>2017</td>\n",
       "    </tr>\n",
       "    <tr>\n",
       "      <th>1</th>\n",
       "      <td>53cdb2fc8bc7dce0b6741e2150273451</td>\n",
       "      <td>b0830fb4747a6c6d20dea0b8c802d7ef</td>\n",
       "      <td>delivered</td>\n",
       "      <td>2018-07-24 20:41:00</td>\n",
       "      <td>2018</td>\n",
       "    </tr>\n",
       "    <tr>\n",
       "      <th>2</th>\n",
       "      <td>47770eb9100c2d0c44946d9cf07ec65d</td>\n",
       "      <td>41ce2a54c0b03bf3443c3d931a367089</td>\n",
       "      <td>delivered</td>\n",
       "      <td>2018-08-08 08:38:00</td>\n",
       "      <td>2018</td>\n",
       "    </tr>\n",
       "    <tr>\n",
       "      <th>3</th>\n",
       "      <td>949d5b44dbf5de918fe9c16f97b45f8a</td>\n",
       "      <td>f88197465ea7920adcdbec7375364d82</td>\n",
       "      <td>delivered</td>\n",
       "      <td>2017-11-18 19:28:00</td>\n",
       "      <td>2017</td>\n",
       "    </tr>\n",
       "    <tr>\n",
       "      <th>4</th>\n",
       "      <td>ad21c59c0840e6cb83a9ceb5573f8159</td>\n",
       "      <td>8ab97904e6daea8866dbdbc4fb7aad2c</td>\n",
       "      <td>delivered</td>\n",
       "      <td>2018-02-13 21:18:00</td>\n",
       "      <td>2018</td>\n",
       "    </tr>\n",
       "  </tbody>\n",
       "</table>\n",
       "</div>"
      ],
      "text/plain": [
       "                           order_id                       customer_id  \\\n",
       "0  e481f51cbdc54678b7cc49136f2d6af7  9ef432eb6251297304e76186b10a928d   \n",
       "1  53cdb2fc8bc7dce0b6741e2150273451  b0830fb4747a6c6d20dea0b8c802d7ef   \n",
       "2  47770eb9100c2d0c44946d9cf07ec65d  41ce2a54c0b03bf3443c3d931a367089   \n",
       "3  949d5b44dbf5de918fe9c16f97b45f8a  f88197465ea7920adcdbec7375364d82   \n",
       "4  ad21c59c0840e6cb83a9ceb5573f8159  8ab97904e6daea8866dbdbc4fb7aad2c   \n",
       "\n",
       "  order_status order_purchase_timestamp  order_year  \n",
       "0    delivered      2017-02-10 10:56:00        2017  \n",
       "1    delivered      2018-07-24 20:41:00        2018  \n",
       "2    delivered      2018-08-08 08:38:00        2018  \n",
       "3    delivered      2017-11-18 19:28:00        2017  \n",
       "4    delivered      2018-02-13 21:18:00        2018  "
      ]
     },
     "execution_count": 14,
     "metadata": {},
     "output_type": "execute_result"
    }
   ],
   "source": [
    "# show the new table\n",
    "delivered_orders_df.head(5)"
   ]
  },
  {
   "cell_type": "markdown",
   "id": "3e527705",
   "metadata": {},
   "source": [
    "Great! Now we have everything we need to count the delivered orders per year. In Excel we would filter by year, count each row, and write it to a new summary table. \n",
    "\n",
    "More advanced Excel users would skip this manual task by using a pivot table with Year as a column and count values of order_id.\n",
    "\n",
    "![excel pivot of orders per year](img/img5.png)\n",
    "\n",
    "We can achieve the same by using pandas groupby and agg function. The syntax might look intimidating for such a simple task, but the function is quite versatile and powerful in ways that Excel's pivot can only dream of.\n",
    "\n",
    "First, we select the table to aggregate, then we define the column to aggregate by, followed by defining the aggregation function."
   ]
  },
  {
   "cell_type": "code",
   "execution_count": 15,
   "id": "fdf0a54d",
   "metadata": {},
   "outputs": [
    {
     "data": {
      "text/html": [
       "<div>\n",
       "<style scoped>\n",
       "    .dataframe tbody tr th:only-of-type {\n",
       "        vertical-align: middle;\n",
       "    }\n",
       "\n",
       "    .dataframe tbody tr th {\n",
       "        vertical-align: top;\n",
       "    }\n",
       "\n",
       "    .dataframe thead th {\n",
       "        text-align: right;\n",
       "    }\n",
       "</style>\n",
       "<table border=\"1\" class=\"dataframe\">\n",
       "  <thead>\n",
       "    <tr style=\"text-align: right;\">\n",
       "      <th></th>\n",
       "      <th>order_year</th>\n",
       "      <th>order_id</th>\n",
       "    </tr>\n",
       "  </thead>\n",
       "  <tbody>\n",
       "    <tr>\n",
       "      <th>0</th>\n",
       "      <td>2016</td>\n",
       "      <td>267</td>\n",
       "    </tr>\n",
       "    <tr>\n",
       "      <th>1</th>\n",
       "      <td>2017</td>\n",
       "      <td>43428</td>\n",
       "    </tr>\n",
       "    <tr>\n",
       "      <th>2</th>\n",
       "      <td>2018</td>\n",
       "      <td>52783</td>\n",
       "    </tr>\n",
       "  </tbody>\n",
       "</table>\n",
       "</div>"
      ],
      "text/plain": [
       "   order_year  order_id\n",
       "0        2016       267\n",
       "1        2017     43428\n",
       "2        2018     52783"
      ]
     },
     "execution_count": 15,
     "metadata": {},
     "output_type": "execute_result"
    }
   ],
   "source": [
    "delivered_orders_df.groupby(by=[\"order_year\"], as_index=False).agg({'order_id':'count'})"
   ]
  },
  {
   "cell_type": "markdown",
   "id": "329415b8",
   "metadata": {},
   "source": [
    "## 3.2 💵 Company size in terms of revenue per year? \n",
    "Next to the number of transactions we would also find out the revenue. As stated above, we need to combine delivered_order_df with order_lines_df through order_id as the key. Furthermore, we notice that the order_lines table has information on the number of order items and price, but not revenue yet.\n",
    "\n",
    "Hence, this is what we need to do:\n",
    "\n",
    "- create a column \"line_revenue\" in order_lines_df with values for order_item * price\n",
    "- create an aggregated table that sums up line_revenue for each order as order_revenue\n",
    "- combine the aggregated table with delivered_orders_df and sum up order_revenue per year\n",
    "\n",
    "In Excel, we would create a new column, use a pivot table, combine the pivot table with the other filtered table using something like VLOOKUP, build yet another pivot on that resulting table, ... \n",
    "\n",
    "Let's not do that. It's not a complex task but we can already see why we should switch over to Python for doing tasks like that. Once you get used to the syntax and process, everything will be easier and more scalable to do."
   ]
  },
  {
   "cell_type": "code",
   "execution_count": 16,
   "id": "8c1218ca",
   "metadata": {},
   "outputs": [
    {
     "data": {
      "text/html": [
       "<div>\n",
       "<style scoped>\n",
       "    .dataframe tbody tr th:only-of-type {\n",
       "        vertical-align: middle;\n",
       "    }\n",
       "\n",
       "    .dataframe tbody tr th {\n",
       "        vertical-align: top;\n",
       "    }\n",
       "\n",
       "    .dataframe thead th {\n",
       "        text-align: right;\n",
       "    }\n",
       "</style>\n",
       "<table border=\"1\" class=\"dataframe\">\n",
       "  <thead>\n",
       "    <tr style=\"text-align: right;\">\n",
       "      <th></th>\n",
       "      <th>order_id</th>\n",
       "      <th>order_item_id</th>\n",
       "      <th>product_id</th>\n",
       "      <th>price</th>\n",
       "      <th>freight_value</th>\n",
       "    </tr>\n",
       "  </thead>\n",
       "  <tbody>\n",
       "    <tr>\n",
       "      <th>0</th>\n",
       "      <td>00010242fe8c5a6d1ba2dd792cb16214</td>\n",
       "      <td>1</td>\n",
       "      <td>4244733e06e7ecb4970a6e2683c13e61</td>\n",
       "      <td>58.90</td>\n",
       "      <td>13.29</td>\n",
       "    </tr>\n",
       "    <tr>\n",
       "      <th>1</th>\n",
       "      <td>00018f77f2f0320c557190d7a144bdd3</td>\n",
       "      <td>1</td>\n",
       "      <td>e5f2d52b802189ee658865ca93d83a8f</td>\n",
       "      <td>239.90</td>\n",
       "      <td>19.93</td>\n",
       "    </tr>\n",
       "    <tr>\n",
       "      <th>2</th>\n",
       "      <td>000229ec398224ef6ca0657da4fc703e</td>\n",
       "      <td>1</td>\n",
       "      <td>c777355d18b72b67abbeef9df44fd0fd</td>\n",
       "      <td>199.00</td>\n",
       "      <td>17.87</td>\n",
       "    </tr>\n",
       "    <tr>\n",
       "      <th>3</th>\n",
       "      <td>00024acbcdf0a6daa1e931b038114c75</td>\n",
       "      <td>1</td>\n",
       "      <td>7634da152a4610f1595efa32f14722fc</td>\n",
       "      <td>12.99</td>\n",
       "      <td>12.79</td>\n",
       "    </tr>\n",
       "    <tr>\n",
       "      <th>4</th>\n",
       "      <td>00042b26cf59d7ce69dfabb4e55b4fd9</td>\n",
       "      <td>1</td>\n",
       "      <td>ac6c3623068f30de03045865e4e10089</td>\n",
       "      <td>199.90</td>\n",
       "      <td>18.14</td>\n",
       "    </tr>\n",
       "  </tbody>\n",
       "</table>\n",
       "</div>"
      ],
      "text/plain": [
       "                           order_id  order_item_id  \\\n",
       "0  00010242fe8c5a6d1ba2dd792cb16214              1   \n",
       "1  00018f77f2f0320c557190d7a144bdd3              1   \n",
       "2  000229ec398224ef6ca0657da4fc703e              1   \n",
       "3  00024acbcdf0a6daa1e931b038114c75              1   \n",
       "4  00042b26cf59d7ce69dfabb4e55b4fd9              1   \n",
       "\n",
       "                         product_id   price  freight_value  \n",
       "0  4244733e06e7ecb4970a6e2683c13e61   58.90          13.29  \n",
       "1  e5f2d52b802189ee658865ca93d83a8f  239.90          19.93  \n",
       "2  c777355d18b72b67abbeef9df44fd0fd  199.00          17.87  \n",
       "3  7634da152a4610f1595efa32f14722fc   12.99          12.79  \n",
       "4  ac6c3623068f30de03045865e4e10089  199.90          18.14  "
      ]
     },
     "execution_count": 16,
     "metadata": {},
     "output_type": "execute_result"
    }
   ],
   "source": [
    "order_lines_df.head()"
   ]
  },
  {
   "cell_type": "code",
   "execution_count": 17,
   "id": "2d9a11fd",
   "metadata": {},
   "outputs": [
    {
     "data": {
      "text/html": [
       "<div>\n",
       "<style scoped>\n",
       "    .dataframe tbody tr th:only-of-type {\n",
       "        vertical-align: middle;\n",
       "    }\n",
       "\n",
       "    .dataframe tbody tr th {\n",
       "        vertical-align: top;\n",
       "    }\n",
       "\n",
       "    .dataframe thead th {\n",
       "        text-align: right;\n",
       "    }\n",
       "</style>\n",
       "<table border=\"1\" class=\"dataframe\">\n",
       "  <thead>\n",
       "    <tr style=\"text-align: right;\">\n",
       "      <th></th>\n",
       "      <th>order_id</th>\n",
       "      <th>order_item_id</th>\n",
       "      <th>product_id</th>\n",
       "      <th>price</th>\n",
       "      <th>freight_value</th>\n",
       "      <th>line_revenue</th>\n",
       "    </tr>\n",
       "  </thead>\n",
       "  <tbody>\n",
       "    <tr>\n",
       "      <th>0</th>\n",
       "      <td>00010242fe8c5a6d1ba2dd792cb16214</td>\n",
       "      <td>1</td>\n",
       "      <td>4244733e06e7ecb4970a6e2683c13e61</td>\n",
       "      <td>58.90</td>\n",
       "      <td>13.29</td>\n",
       "      <td>58.90</td>\n",
       "    </tr>\n",
       "    <tr>\n",
       "      <th>1</th>\n",
       "      <td>00018f77f2f0320c557190d7a144bdd3</td>\n",
       "      <td>1</td>\n",
       "      <td>e5f2d52b802189ee658865ca93d83a8f</td>\n",
       "      <td>239.90</td>\n",
       "      <td>19.93</td>\n",
       "      <td>239.90</td>\n",
       "    </tr>\n",
       "    <tr>\n",
       "      <th>2</th>\n",
       "      <td>000229ec398224ef6ca0657da4fc703e</td>\n",
       "      <td>1</td>\n",
       "      <td>c777355d18b72b67abbeef9df44fd0fd</td>\n",
       "      <td>199.00</td>\n",
       "      <td>17.87</td>\n",
       "      <td>199.00</td>\n",
       "    </tr>\n",
       "    <tr>\n",
       "      <th>3</th>\n",
       "      <td>00024acbcdf0a6daa1e931b038114c75</td>\n",
       "      <td>1</td>\n",
       "      <td>7634da152a4610f1595efa32f14722fc</td>\n",
       "      <td>12.99</td>\n",
       "      <td>12.79</td>\n",
       "      <td>12.99</td>\n",
       "    </tr>\n",
       "    <tr>\n",
       "      <th>4</th>\n",
       "      <td>00042b26cf59d7ce69dfabb4e55b4fd9</td>\n",
       "      <td>1</td>\n",
       "      <td>ac6c3623068f30de03045865e4e10089</td>\n",
       "      <td>199.90</td>\n",
       "      <td>18.14</td>\n",
       "      <td>199.90</td>\n",
       "    </tr>\n",
       "  </tbody>\n",
       "</table>\n",
       "</div>"
      ],
      "text/plain": [
       "                           order_id  order_item_id  \\\n",
       "0  00010242fe8c5a6d1ba2dd792cb16214              1   \n",
       "1  00018f77f2f0320c557190d7a144bdd3              1   \n",
       "2  000229ec398224ef6ca0657da4fc703e              1   \n",
       "3  00024acbcdf0a6daa1e931b038114c75              1   \n",
       "4  00042b26cf59d7ce69dfabb4e55b4fd9              1   \n",
       "\n",
       "                         product_id   price  freight_value  line_revenue  \n",
       "0  4244733e06e7ecb4970a6e2683c13e61   58.90          13.29         58.90  \n",
       "1  e5f2d52b802189ee658865ca93d83a8f  239.90          19.93        239.90  \n",
       "2  c777355d18b72b67abbeef9df44fd0fd  199.00          17.87        199.00  \n",
       "3  7634da152a4610f1595efa32f14722fc   12.99          12.79         12.99  \n",
       "4  ac6c3623068f30de03045865e4e10089  199.90          18.14        199.90  "
      ]
     },
     "execution_count": 17,
     "metadata": {},
     "output_type": "execute_result"
    }
   ],
   "source": [
    "# create new column and save the result of order_item_id * price\n",
    "order_lines_df[\"line_revenue\"] = order_lines_df[\"order_item_id\"] * order_lines_df[\"price\"]\n",
    "order_lines_df.head()"
   ]
  },
  {
   "cell_type": "code",
   "execution_count": 18,
   "id": "9e3f5a1f",
   "metadata": {},
   "outputs": [
    {
     "data": {
      "text/html": [
       "<div>\n",
       "<style scoped>\n",
       "    .dataframe tbody tr th:only-of-type {\n",
       "        vertical-align: middle;\n",
       "    }\n",
       "\n",
       "    .dataframe tbody tr th {\n",
       "        vertical-align: top;\n",
       "    }\n",
       "\n",
       "    .dataframe thead th {\n",
       "        text-align: right;\n",
       "    }\n",
       "</style>\n",
       "<table border=\"1\" class=\"dataframe\">\n",
       "  <thead>\n",
       "    <tr style=\"text-align: right;\">\n",
       "      <th></th>\n",
       "      <th>order_id</th>\n",
       "      <th>line_revenue</th>\n",
       "    </tr>\n",
       "  </thead>\n",
       "  <tbody>\n",
       "    <tr>\n",
       "      <th>0</th>\n",
       "      <td>00010242fe8c5a6d1ba2dd792cb16214</td>\n",
       "      <td>58.90</td>\n",
       "    </tr>\n",
       "    <tr>\n",
       "      <th>1</th>\n",
       "      <td>00018f77f2f0320c557190d7a144bdd3</td>\n",
       "      <td>239.90</td>\n",
       "    </tr>\n",
       "    <tr>\n",
       "      <th>2</th>\n",
       "      <td>000229ec398224ef6ca0657da4fc703e</td>\n",
       "      <td>199.00</td>\n",
       "    </tr>\n",
       "    <tr>\n",
       "      <th>3</th>\n",
       "      <td>00024acbcdf0a6daa1e931b038114c75</td>\n",
       "      <td>12.99</td>\n",
       "    </tr>\n",
       "    <tr>\n",
       "      <th>4</th>\n",
       "      <td>00042b26cf59d7ce69dfabb4e55b4fd9</td>\n",
       "      <td>199.90</td>\n",
       "    </tr>\n",
       "  </tbody>\n",
       "</table>\n",
       "</div>"
      ],
      "text/plain": [
       "                           order_id  line_revenue\n",
       "0  00010242fe8c5a6d1ba2dd792cb16214         58.90\n",
       "1  00018f77f2f0320c557190d7a144bdd3        239.90\n",
       "2  000229ec398224ef6ca0657da4fc703e        199.00\n",
       "3  00024acbcdf0a6daa1e931b038114c75         12.99\n",
       "4  00042b26cf59d7ce69dfabb4e55b4fd9        199.90"
      ]
     },
     "execution_count": 18,
     "metadata": {},
     "output_type": "execute_result"
    }
   ],
   "source": [
    "# aggregate table and sum up line_revenue to get the total order value per order id\n",
    "order_lines_agg_df = order_lines_df.groupby(by=[\"order_id\"], as_index=False).agg({\"line_revenue\":\"sum\"})\n",
    "order_lines_agg_df.head(5)"
   ]
  },
  {
   "cell_type": "code",
   "execution_count": 19,
   "id": "9c508951",
   "metadata": {},
   "outputs": [
    {
     "data": {
      "text/html": [
       "<div>\n",
       "<style scoped>\n",
       "    .dataframe tbody tr th:only-of-type {\n",
       "        vertical-align: middle;\n",
       "    }\n",
       "\n",
       "    .dataframe tbody tr th {\n",
       "        vertical-align: top;\n",
       "    }\n",
       "\n",
       "    .dataframe thead th {\n",
       "        text-align: right;\n",
       "    }\n",
       "</style>\n",
       "<table border=\"1\" class=\"dataframe\">\n",
       "  <thead>\n",
       "    <tr style=\"text-align: right;\">\n",
       "      <th></th>\n",
       "      <th>order_id</th>\n",
       "      <th>customer_id</th>\n",
       "      <th>order_status</th>\n",
       "      <th>order_purchase_timestamp</th>\n",
       "      <th>order_year</th>\n",
       "    </tr>\n",
       "  </thead>\n",
       "  <tbody>\n",
       "    <tr>\n",
       "      <th>0</th>\n",
       "      <td>e481f51cbdc54678b7cc49136f2d6af7</td>\n",
       "      <td>9ef432eb6251297304e76186b10a928d</td>\n",
       "      <td>delivered</td>\n",
       "      <td>2017-02-10 10:56:00</td>\n",
       "      <td>2017</td>\n",
       "    </tr>\n",
       "    <tr>\n",
       "      <th>1</th>\n",
       "      <td>53cdb2fc8bc7dce0b6741e2150273451</td>\n",
       "      <td>b0830fb4747a6c6d20dea0b8c802d7ef</td>\n",
       "      <td>delivered</td>\n",
       "      <td>2018-07-24 20:41:00</td>\n",
       "      <td>2018</td>\n",
       "    </tr>\n",
       "    <tr>\n",
       "      <th>2</th>\n",
       "      <td>47770eb9100c2d0c44946d9cf07ec65d</td>\n",
       "      <td>41ce2a54c0b03bf3443c3d931a367089</td>\n",
       "      <td>delivered</td>\n",
       "      <td>2018-08-08 08:38:00</td>\n",
       "      <td>2018</td>\n",
       "    </tr>\n",
       "    <tr>\n",
       "      <th>3</th>\n",
       "      <td>949d5b44dbf5de918fe9c16f97b45f8a</td>\n",
       "      <td>f88197465ea7920adcdbec7375364d82</td>\n",
       "      <td>delivered</td>\n",
       "      <td>2017-11-18 19:28:00</td>\n",
       "      <td>2017</td>\n",
       "    </tr>\n",
       "    <tr>\n",
       "      <th>4</th>\n",
       "      <td>ad21c59c0840e6cb83a9ceb5573f8159</td>\n",
       "      <td>8ab97904e6daea8866dbdbc4fb7aad2c</td>\n",
       "      <td>delivered</td>\n",
       "      <td>2018-02-13 21:18:00</td>\n",
       "      <td>2018</td>\n",
       "    </tr>\n",
       "  </tbody>\n",
       "</table>\n",
       "</div>"
      ],
      "text/plain": [
       "                           order_id                       customer_id  \\\n",
       "0  e481f51cbdc54678b7cc49136f2d6af7  9ef432eb6251297304e76186b10a928d   \n",
       "1  53cdb2fc8bc7dce0b6741e2150273451  b0830fb4747a6c6d20dea0b8c802d7ef   \n",
       "2  47770eb9100c2d0c44946d9cf07ec65d  41ce2a54c0b03bf3443c3d931a367089   \n",
       "3  949d5b44dbf5de918fe9c16f97b45f8a  f88197465ea7920adcdbec7375364d82   \n",
       "4  ad21c59c0840e6cb83a9ceb5573f8159  8ab97904e6daea8866dbdbc4fb7aad2c   \n",
       "\n",
       "  order_status order_purchase_timestamp  order_year  \n",
       "0    delivered      2017-02-10 10:56:00        2017  \n",
       "1    delivered      2018-07-24 20:41:00        2018  \n",
       "2    delivered      2018-08-08 08:38:00        2018  \n",
       "3    delivered      2017-11-18 19:28:00        2017  \n",
       "4    delivered      2018-02-13 21:18:00        2018  "
      ]
     },
     "execution_count": 19,
     "metadata": {},
     "output_type": "execute_result"
    }
   ],
   "source": [
    "delivered_orders_df.head(5)"
   ]
  },
  {
   "cell_type": "markdown",
   "id": "518a3f69",
   "metadata": {},
   "source": [
    "Now we want to combine the two tables above, order_lines_agg_df and delivered_orders_df. What we do is similar to Excel's VLOOKUP() formula in terms of result, however we **merge the two tables using order_id as a key**. The python code is straight forward and almost like prose.\n",
    "\n",
    "After that we repeat what we did above when we calculated the number of transactions per year, but this time we sum up line_revenue (which should be called order_revenue in this table, since it's the sum of line_revenue per order)."
   ]
  },
  {
   "cell_type": "code",
   "execution_count": 20,
   "id": "a98e3e0e",
   "metadata": {},
   "outputs": [
    {
     "data": {
      "text/html": [
       "<div>\n",
       "<style scoped>\n",
       "    .dataframe tbody tr th:only-of-type {\n",
       "        vertical-align: middle;\n",
       "    }\n",
       "\n",
       "    .dataframe tbody tr th {\n",
       "        vertical-align: top;\n",
       "    }\n",
       "\n",
       "    .dataframe thead th {\n",
       "        text-align: right;\n",
       "    }\n",
       "</style>\n",
       "<table border=\"1\" class=\"dataframe\">\n",
       "  <thead>\n",
       "    <tr style=\"text-align: right;\">\n",
       "      <th></th>\n",
       "      <th>order_id</th>\n",
       "      <th>customer_id</th>\n",
       "      <th>order_status</th>\n",
       "      <th>order_purchase_timestamp</th>\n",
       "      <th>order_year</th>\n",
       "      <th>line_revenue</th>\n",
       "    </tr>\n",
       "  </thead>\n",
       "  <tbody>\n",
       "    <tr>\n",
       "      <th>0</th>\n",
       "      <td>e481f51cbdc54678b7cc49136f2d6af7</td>\n",
       "      <td>9ef432eb6251297304e76186b10a928d</td>\n",
       "      <td>delivered</td>\n",
       "      <td>2017-02-10 10:56:00</td>\n",
       "      <td>2017</td>\n",
       "      <td>29.99</td>\n",
       "    </tr>\n",
       "    <tr>\n",
       "      <th>1</th>\n",
       "      <td>53cdb2fc8bc7dce0b6741e2150273451</td>\n",
       "      <td>b0830fb4747a6c6d20dea0b8c802d7ef</td>\n",
       "      <td>delivered</td>\n",
       "      <td>2018-07-24 20:41:00</td>\n",
       "      <td>2018</td>\n",
       "      <td>118.70</td>\n",
       "    </tr>\n",
       "    <tr>\n",
       "      <th>2</th>\n",
       "      <td>47770eb9100c2d0c44946d9cf07ec65d</td>\n",
       "      <td>41ce2a54c0b03bf3443c3d931a367089</td>\n",
       "      <td>delivered</td>\n",
       "      <td>2018-08-08 08:38:00</td>\n",
       "      <td>2018</td>\n",
       "      <td>159.90</td>\n",
       "    </tr>\n",
       "    <tr>\n",
       "      <th>3</th>\n",
       "      <td>949d5b44dbf5de918fe9c16f97b45f8a</td>\n",
       "      <td>f88197465ea7920adcdbec7375364d82</td>\n",
       "      <td>delivered</td>\n",
       "      <td>2017-11-18 19:28:00</td>\n",
       "      <td>2017</td>\n",
       "      <td>45.00</td>\n",
       "    </tr>\n",
       "    <tr>\n",
       "      <th>4</th>\n",
       "      <td>ad21c59c0840e6cb83a9ceb5573f8159</td>\n",
       "      <td>8ab97904e6daea8866dbdbc4fb7aad2c</td>\n",
       "      <td>delivered</td>\n",
       "      <td>2018-02-13 21:18:00</td>\n",
       "      <td>2018</td>\n",
       "      <td>19.90</td>\n",
       "    </tr>\n",
       "  </tbody>\n",
       "</table>\n",
       "</div>"
      ],
      "text/plain": [
       "                           order_id                       customer_id  \\\n",
       "0  e481f51cbdc54678b7cc49136f2d6af7  9ef432eb6251297304e76186b10a928d   \n",
       "1  53cdb2fc8bc7dce0b6741e2150273451  b0830fb4747a6c6d20dea0b8c802d7ef   \n",
       "2  47770eb9100c2d0c44946d9cf07ec65d  41ce2a54c0b03bf3443c3d931a367089   \n",
       "3  949d5b44dbf5de918fe9c16f97b45f8a  f88197465ea7920adcdbec7375364d82   \n",
       "4  ad21c59c0840e6cb83a9ceb5573f8159  8ab97904e6daea8866dbdbc4fb7aad2c   \n",
       "\n",
       "  order_status order_purchase_timestamp  order_year  line_revenue  \n",
       "0    delivered      2017-02-10 10:56:00        2017         29.99  \n",
       "1    delivered      2018-07-24 20:41:00        2018        118.70  \n",
       "2    delivered      2018-08-08 08:38:00        2018        159.90  \n",
       "3    delivered      2017-11-18 19:28:00        2017         45.00  \n",
       "4    delivered      2018-02-13 21:18:00        2018         19.90  "
      ]
     },
     "execution_count": 20,
     "metadata": {},
     "output_type": "execute_result"
    }
   ],
   "source": [
    "# merge the two tables to get revenue per order\n",
    "delivered_orders_merged_df = pd.merge(left=delivered_orders_df, right=order_lines_agg_df, how=\"left\", on=\"order_id\")\n",
    "delivered_orders_merged_df.head(5)"
   ]
  },
  {
   "cell_type": "code",
   "execution_count": 21,
   "id": "33e2d2ae",
   "metadata": {},
   "outputs": [
    {
     "data": {
      "text/html": [
       "<div>\n",
       "<style scoped>\n",
       "    .dataframe tbody tr th:only-of-type {\n",
       "        vertical-align: middle;\n",
       "    }\n",
       "\n",
       "    .dataframe tbody tr th {\n",
       "        vertical-align: top;\n",
       "    }\n",
       "\n",
       "    .dataframe thead th {\n",
       "        text-align: right;\n",
       "    }\n",
       "</style>\n",
       "<table border=\"1\" class=\"dataframe\">\n",
       "  <thead>\n",
       "    <tr style=\"text-align: right;\">\n",
       "      <th></th>\n",
       "      <th>order_year</th>\n",
       "      <th>line_revenue</th>\n",
       "    </tr>\n",
       "  </thead>\n",
       "  <tbody>\n",
       "    <tr>\n",
       "      <th>0</th>\n",
       "      <td>2016</td>\n",
       "      <td>4.649029e+04</td>\n",
       "    </tr>\n",
       "    <tr>\n",
       "      <th>1</th>\n",
       "      <td>2017</td>\n",
       "      <td>6.761452e+06</td>\n",
       "    </tr>\n",
       "    <tr>\n",
       "      <th>2</th>\n",
       "      <td>2018</td>\n",
       "      <td>8.173995e+06</td>\n",
       "    </tr>\n",
       "  </tbody>\n",
       "</table>\n",
       "</div>"
      ],
      "text/plain": [
       "   order_year  line_revenue\n",
       "0        2016  4.649029e+04\n",
       "1        2017  6.761452e+06\n",
       "2        2018  8.173995e+06"
      ]
     },
     "execution_count": 21,
     "metadata": {},
     "output_type": "execute_result"
    }
   ],
   "source": [
    "delivered_orders_merged_df.groupby(by=[\"order_year\"], as_index=False).agg({\"line_revenue\":\"sum\"})"
   ]
  },
  {
   "cell_type": "markdown",
   "id": "b6ca2820",
   "metadata": {},
   "source": [
    "This looks wrong, right? Not really. This is called **scientific notation** where very big or very small numbers are displayed as a calculation. \n",
    "\n",
    "4.649029e+4 means 4.649029 * 10^4 means 4.649029 * 10,000 means 46,490.29. You can change the way Jupyter Notebook dispays numbers using the following code snippet."
   ]
  },
  {
   "cell_type": "code",
   "execution_count": 22,
   "id": "f68fd179",
   "metadata": {},
   "outputs": [],
   "source": [
    "pd.set_option('display.float_format', lambda x: '%.2f' % x)"
   ]
  },
  {
   "cell_type": "code",
   "execution_count": 23,
   "id": "80091cee",
   "metadata": {},
   "outputs": [
    {
     "data": {
      "text/html": [
       "<div>\n",
       "<style scoped>\n",
       "    .dataframe tbody tr th:only-of-type {\n",
       "        vertical-align: middle;\n",
       "    }\n",
       "\n",
       "    .dataframe tbody tr th {\n",
       "        vertical-align: top;\n",
       "    }\n",
       "\n",
       "    .dataframe thead th {\n",
       "        text-align: right;\n",
       "    }\n",
       "</style>\n",
       "<table border=\"1\" class=\"dataframe\">\n",
       "  <thead>\n",
       "    <tr style=\"text-align: right;\">\n",
       "      <th></th>\n",
       "      <th>order_year</th>\n",
       "      <th>line_revenue</th>\n",
       "    </tr>\n",
       "  </thead>\n",
       "  <tbody>\n",
       "    <tr>\n",
       "      <th>0</th>\n",
       "      <td>2016</td>\n",
       "      <td>46490.29</td>\n",
       "    </tr>\n",
       "    <tr>\n",
       "      <th>1</th>\n",
       "      <td>2017</td>\n",
       "      <td>6761451.80</td>\n",
       "    </tr>\n",
       "    <tr>\n",
       "      <th>2</th>\n",
       "      <td>2018</td>\n",
       "      <td>8173995.22</td>\n",
       "    </tr>\n",
       "  </tbody>\n",
       "</table>\n",
       "</div>"
      ],
      "text/plain": [
       "   order_year  line_revenue\n",
       "0        2016      46490.29\n",
       "1        2017    6761451.80\n",
       "2        2018    8173995.22"
      ]
     },
     "execution_count": 23,
     "metadata": {},
     "output_type": "execute_result"
    }
   ],
   "source": [
    "# display float numbers up to second decimal point\n",
    "delivered_orders_merged_df.groupby(by=[\"order_year\"], as_index=False).agg({\"line_revenue\":\"sum\"})"
   ]
  },
  {
   "cell_type": "markdown",
   "id": "0bc5b7a5",
   "metadata": {},
   "source": [
    "Great! It seems like our company is quite alive. Using this approach we can calculate all sorts of things. Like the number of customers per year and the average order value. The ratio of transactions to customers might be of interest too, since a company can be at risk when their revenue is only based on a small number of highly valuable customers. What if they switch to our competitor? \n",
    "\n",
    "Just play around with the data to get more familiar with how it works in Python."
   ]
  },
  {
   "cell_type": "markdown",
   "id": "98a7cec4",
   "metadata": {},
   "source": [
    "## 3.3 👗 How many products do we offer per Category? \n",
    "\n",
    "Since you already know how to count unique values of a column, this will be quite easy now. Above, we counted the number of unique order_ids in orders_df. Now we have to count the product_id in products_df to get a general idea of the scope of our offering, i.e. **how many different products** we offer."
   ]
  },
  {
   "cell_type": "code",
   "execution_count": 24,
   "id": "8c476751",
   "metadata": {},
   "outputs": [
    {
     "data": {
      "text/html": [
       "<div>\n",
       "<style scoped>\n",
       "    .dataframe tbody tr th:only-of-type {\n",
       "        vertical-align: middle;\n",
       "    }\n",
       "\n",
       "    .dataframe tbody tr th {\n",
       "        vertical-align: top;\n",
       "    }\n",
       "\n",
       "    .dataframe thead th {\n",
       "        text-align: right;\n",
       "    }\n",
       "</style>\n",
       "<table border=\"1\" class=\"dataframe\">\n",
       "  <thead>\n",
       "    <tr style=\"text-align: right;\">\n",
       "      <th></th>\n",
       "      <th>product_id</th>\n",
       "      <th>product_category_name</th>\n",
       "    </tr>\n",
       "  </thead>\n",
       "  <tbody>\n",
       "    <tr>\n",
       "      <th>0</th>\n",
       "      <td>1e9e8ef04dbcff4541ed26657ea517e5</td>\n",
       "      <td>perfumaria</td>\n",
       "    </tr>\n",
       "    <tr>\n",
       "      <th>1</th>\n",
       "      <td>3aa071139cb16b67ca9e5dea641aaa2f</td>\n",
       "      <td>artes</td>\n",
       "    </tr>\n",
       "    <tr>\n",
       "      <th>2</th>\n",
       "      <td>96bd76ec8810374ed1b65e291975717f</td>\n",
       "      <td>esporte_lazer</td>\n",
       "    </tr>\n",
       "    <tr>\n",
       "      <th>3</th>\n",
       "      <td>cef67bcfe19066a932b7673e239eb23d</td>\n",
       "      <td>bebes</td>\n",
       "    </tr>\n",
       "    <tr>\n",
       "      <th>4</th>\n",
       "      <td>9dc1a7de274444849c219cff195d0b71</td>\n",
       "      <td>utilidades_domesticas</td>\n",
       "    </tr>\n",
       "  </tbody>\n",
       "</table>\n",
       "</div>"
      ],
      "text/plain": [
       "                         product_id  product_category_name\n",
       "0  1e9e8ef04dbcff4541ed26657ea517e5             perfumaria\n",
       "1  3aa071139cb16b67ca9e5dea641aaa2f                  artes\n",
       "2  96bd76ec8810374ed1b65e291975717f          esporte_lazer\n",
       "3  cef67bcfe19066a932b7673e239eb23d                  bebes\n",
       "4  9dc1a7de274444849c219cff195d0b71  utilidades_domesticas"
      ]
     },
     "execution_count": 24,
     "metadata": {},
     "output_type": "execute_result"
    }
   ],
   "source": [
    "products_df.head()"
   ]
  },
  {
   "cell_type": "code",
   "execution_count": 25,
   "id": "8ae82451",
   "metadata": {},
   "outputs": [
    {
     "data": {
      "text/plain": [
       "32951"
      ]
     },
     "execution_count": 25,
     "metadata": {},
     "output_type": "execute_result"
    }
   ],
   "source": [
    "# count unique products in our database\n",
    "len(pd.unique(products_df[\"product_id\"]))"
   ]
  },
  {
   "cell_type": "markdown",
   "id": "c35f1d0c",
   "metadata": {},
   "source": [
    "Since we want to also know the **number of products per category**, we replicate the approach from above where we calculated the number of transactions per year. Instead of \"order_year\" we will now use \"product_category_name\" and instead of \"order_id\" to count we use \"product_id\"."
   ]
  },
  {
   "cell_type": "code",
   "execution_count": 26,
   "id": "d94590a4",
   "metadata": {},
   "outputs": [
    {
     "data": {
      "text/html": [
       "<div>\n",
       "<style scoped>\n",
       "    .dataframe tbody tr th:only-of-type {\n",
       "        vertical-align: middle;\n",
       "    }\n",
       "\n",
       "    .dataframe tbody tr th {\n",
       "        vertical-align: top;\n",
       "    }\n",
       "\n",
       "    .dataframe thead th {\n",
       "        text-align: right;\n",
       "    }\n",
       "</style>\n",
       "<table border=\"1\" class=\"dataframe\">\n",
       "  <thead>\n",
       "    <tr style=\"text-align: right;\">\n",
       "      <th></th>\n",
       "      <th>product_category_name</th>\n",
       "      <th>product_id_count</th>\n",
       "    </tr>\n",
       "  </thead>\n",
       "  <tbody>\n",
       "    <tr>\n",
       "      <th>0</th>\n",
       "      <td>agro_industria_e_comercio</td>\n",
       "      <td>74</td>\n",
       "    </tr>\n",
       "    <tr>\n",
       "      <th>1</th>\n",
       "      <td>alimentos</td>\n",
       "      <td>82</td>\n",
       "    </tr>\n",
       "    <tr>\n",
       "      <th>2</th>\n",
       "      <td>alimentos_bebidas</td>\n",
       "      <td>104</td>\n",
       "    </tr>\n",
       "    <tr>\n",
       "      <th>3</th>\n",
       "      <td>artes</td>\n",
       "      <td>55</td>\n",
       "    </tr>\n",
       "    <tr>\n",
       "      <th>4</th>\n",
       "      <td>artes_e_artesanato</td>\n",
       "      <td>19</td>\n",
       "    </tr>\n",
       "  </tbody>\n",
       "</table>\n",
       "</div>"
      ],
      "text/plain": [
       "       product_category_name  product_id_count\n",
       "0  agro_industria_e_comercio                74\n",
       "1                  alimentos                82\n",
       "2          alimentos_bebidas               104\n",
       "3                      artes                55\n",
       "4         artes_e_artesanato                19"
      ]
     },
     "execution_count": 26,
     "metadata": {},
     "output_type": "execute_result"
    }
   ],
   "source": [
    "# count products per category\n",
    "products_per_category_df = products_df.groupby(by=[\"product_category_name\"], as_index=False).agg({\"product_id\":\"count\"})\n",
    "products_per_category_df.columns = [\"product_category_name\", \"product_id_count\"]\n",
    "products_per_category_df.head(5)"
   ]
  },
  {
   "cell_type": "code",
   "execution_count": 27,
   "id": "a5aae665",
   "metadata": {},
   "outputs": [
    {
     "data": {
      "text/plain": [
       "73"
      ]
     },
     "execution_count": 27,
     "metadata": {},
     "output_type": "execute_result"
    }
   ],
   "source": [
    "# number of categories\n",
    "len(products_per_category_df)"
   ]
  },
  {
   "cell_type": "markdown",
   "id": "55ba4c83",
   "metadata": {},
   "source": [
    "Wow, we offer almost 33k products in 73 categories? What are the top 5 categories in terms of number of products?\n",
    "\n",
    "Like in Excel, we simply have to sort the table by product_id_count."
   ]
  },
  {
   "cell_type": "code",
   "execution_count": 28,
   "id": "80eb2c07",
   "metadata": {},
   "outputs": [
    {
     "data": {
      "text/html": [
       "<div>\n",
       "<style scoped>\n",
       "    .dataframe tbody tr th:only-of-type {\n",
       "        vertical-align: middle;\n",
       "    }\n",
       "\n",
       "    .dataframe tbody tr th {\n",
       "        vertical-align: top;\n",
       "    }\n",
       "\n",
       "    .dataframe thead th {\n",
       "        text-align: right;\n",
       "    }\n",
       "</style>\n",
       "<table border=\"1\" class=\"dataframe\">\n",
       "  <thead>\n",
       "    <tr style=\"text-align: right;\">\n",
       "      <th></th>\n",
       "      <th>product_category_name</th>\n",
       "      <th>product_id_count</th>\n",
       "    </tr>\n",
       "  </thead>\n",
       "  <tbody>\n",
       "    <tr>\n",
       "      <th>13</th>\n",
       "      <td>cama_mesa_banho</td>\n",
       "      <td>3029</td>\n",
       "    </tr>\n",
       "    <tr>\n",
       "      <th>32</th>\n",
       "      <td>esporte_lazer</td>\n",
       "      <td>2867</td>\n",
       "    </tr>\n",
       "    <tr>\n",
       "      <th>54</th>\n",
       "      <td>moveis_decoracao</td>\n",
       "      <td>2657</td>\n",
       "    </tr>\n",
       "    <tr>\n",
       "      <th>11</th>\n",
       "      <td>beleza_saude</td>\n",
       "      <td>2444</td>\n",
       "    </tr>\n",
       "    <tr>\n",
       "      <th>72</th>\n",
       "      <td>utilidades_domesticas</td>\n",
       "      <td>2335</td>\n",
       "    </tr>\n",
       "  </tbody>\n",
       "</table>\n",
       "</div>"
      ],
      "text/plain": [
       "    product_category_name  product_id_count\n",
       "13        cama_mesa_banho              3029\n",
       "32          esporte_lazer              2867\n",
       "54       moveis_decoracao              2657\n",
       "11           beleza_saude              2444\n",
       "72  utilidades_domesticas              2335"
      ]
     },
     "execution_count": 28,
     "metadata": {},
     "output_type": "execute_result"
    }
   ],
   "source": [
    "# sort by product_id_count descending\n",
    "products_per_category_df.sort_values(by=[\"product_id_count\"], ascending=False).head(5)"
   ]
  },
  {
   "cell_type": "markdown",
   "id": "60180402",
   "metadata": {},
   "source": [
    "That is probably the point where you find out that knowing Portuguese is quite helpful when working for a Brazilian company..."
   ]
  },
  {
   "cell_type": "markdown",
   "id": "bab3d004",
   "metadata": {},
   "source": [
    "## 3.4 📦 How successful are our deliveries?"
   ]
  },
  {
   "cell_type": "markdown",
   "id": "45ccc4d4",
   "metadata": {},
   "source": [
    "In 3.1 we created a new table with only successfully delivered orders. If we count the unique order ids of that table and divide that number by the count of unique order ids in the big unfiltered orders_df table, then we get the percentage of successful deliveries."
   ]
  },
  {
   "cell_type": "code",
   "execution_count": 29,
   "id": "80aa8317",
   "metadata": {},
   "outputs": [
    {
     "data": {
      "text/plain": [
       "0.97"
      ]
     },
     "execution_count": 29,
     "metadata": {},
     "output_type": "execute_result"
    }
   ],
   "source": [
    "unique_orderids_total = len(pd.unique(orders_df[\"order_id\"]))\n",
    "unique_orderids_delivered = len(pd.unique(delivered_orders_df[\"order_id\"]))\n",
    "\n",
    "# calculate ratio and round to second decimal point\n",
    "round(unique_orderids_delivered/unique_orderids_total,2)"
   ]
  },
  {
   "cell_type": "markdown",
   "id": "94214bfe",
   "metadata": {},
   "source": [
    "97% delivery success is something our company can be really proud of."
   ]
  },
  {
   "cell_type": "markdown",
   "id": "56b23e4b",
   "metadata": {},
   "source": [
    "# 4. Summary\n",
    "\n",
    "Now that we learned that, thanks to pandas, working in python is a real alternative to Excel, we got a bit carried away and calculated all sorts of KPIs based on aggregated data from the three original table. A quick look at the watch tells us what our stomach already knew: it's lunch time!\n",
    "\n",
    "But before we head down to the company cantine aka. wending machine, we want to save what we did and send it to our colleagues. How do we do that?\n",
    "\n",
    "We can simply **export dataframes as csv files** and send them to others who prefer to work in Excel."
   ]
  },
  {
   "cell_type": "code",
   "execution_count": 32,
   "id": "6df4d522",
   "metadata": {},
   "outputs": [],
   "source": [
    "# Export dataframe as csv for Excel\n",
    "products_per_category_df.to_csv(\"output/products_per_category_df.csv\", index=False)"
   ]
  },
  {
   "cell_type": "markdown",
   "id": "804fe887",
   "metadata": {},
   "source": [
    "Today we learned a few basic but powerful functions that allow us to work in Python instead of Excel. Here's a summary.\n",
    "\n",
    "- *pd.read_csv()* can be used to import .csv files as dataframes\n",
    "\n",
    "- *table_df.head()* shows us a preview of that table as output\n",
    "\n",
    "- to access a column of table_df, we type *table_df[\"column_name\"]*\n",
    "\n",
    "- *len(pd.unique(table_df[\"column_name\"]))* gives us the number of unique values in that column\n",
    "\n",
    "- we can multiply two columns and save the result in a new column using *table_df[\"new\"] = table_df[\"col1\"] * table_df[\"col2\"]*\n",
    "\n",
    "- Instead of Excel's pivot table, we can aggregate values per category, e.g. count the number of transactions per year or sum up the revenue per order using *table_df.groupby(by=[\"category\"], as_index=False).agg({\"col3\":\"sum\"})*\n",
    "\n",
    "- Instead of using VLOOKUP() in Excel we can merge two tables using *pd.merge(left=table_1_df, right=table_2_df, how=\"left\", on=\"key_column\")*"
   ]
  },
  {
   "cell_type": "markdown",
   "id": "82881aee",
   "metadata": {},
   "source": [
    "I suggest you to keep going, play around with this dataset or your own a bit further. Whenever you don't know how to do something best is to check the [pandas documentation](https://pandas.pydata.org/docs/) or to google your specific question (\"python datetime from string\" or \"python pivot table\") and see how others do it. Just don't get discouraged and keep on learning! \n",
    "\n",
    "The beginning is always tough but stick with it and you will be way more effective and faster than any Excel pro.\n",
    "\n",
    "![\"hosd data mentoring\"](img/img6.png)\n",
    "\n",
    "\n",
    "And in case you need some general guidance on whether Data Analytics and Data Science could be a career path for you, we at [HOSD Mentoring offer free one-to-one mentoring](http://www.hosd-mentoring.com). You can book a session with one of our mentors with just a click on our website. Don't be shy :)"
   ]
  },
  {
   "cell_type": "code",
   "execution_count": null,
   "id": "be52d8c5",
   "metadata": {},
   "outputs": [],
   "source": []
  }
 ],
 "metadata": {
  "kernelspec": {
   "display_name": "Python 3",
   "language": "python",
   "name": "python3"
  },
  "language_info": {
   "codemirror_mode": {
    "name": "ipython",
    "version": 3
   },
   "file_extension": ".py",
   "mimetype": "text/x-python",
   "name": "python",
   "nbconvert_exporter": "python",
   "pygments_lexer": "ipython3",
   "version": "3.8.5"
  }
 },
 "nbformat": 4,
 "nbformat_minor": 5
}
